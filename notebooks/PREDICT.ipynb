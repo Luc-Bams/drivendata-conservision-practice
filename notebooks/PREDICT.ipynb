{
 "cells": [
  {
   "cell_type": "code",
   "execution_count": null,
   "metadata": {},
   "outputs": [],
   "source": [
    "%cd .."
   ]
  },
  {
   "cell_type": "code",
   "execution_count": null,
   "metadata": {},
   "outputs": [],
   "source": [
    "from datetime import datetime\n",
    "\n",
    "import pandas as pd\n",
    "import pytorch_lightning as pl\n",
    "import torch\n",
    "import torch.nn.functional as F\n",
    "from pytorch_lightning.loggers import TensorBoardLogger\n",
    "from tqdm import tqdm\n",
    "\n",
    "from src.data.ConsPracDataModule import ConsPracDataModule\n",
    "from src.models.EfficientNetV2S import EfficientNetV2S\n",
    "from src.models.ResNet50 import ResNet50"
   ]
  },
  {
   "cell_type": "code",
   "execution_count": null,
   "metadata": {},
   "outputs": [],
   "source": [
    "MODEL_PATH = \"logs/lightning_logs/version_13/checkpoints/best-checkpoint-epoch=04-val_loss=1.42.ckpt\"\n",
    "\n",
    "PREVIOUS_BEST_SUBMISSION = \"data/submissions/0830_2220_submission_df.csv\""
   ]
  },
  {
   "cell_type": "code",
   "execution_count": null,
   "metadata": {},
   "outputs": [],
   "source": [
    "dm = ConsPracDataModule()\n",
    "dm.setup()"
   ]
  },
  {
   "cell_type": "code",
   "execution_count": null,
   "metadata": {},
   "outputs": [],
   "source": [
    "dl_test = dm.test_dataloader()"
   ]
  },
  {
   "cell_type": "code",
   "execution_count": null,
   "metadata": {},
   "outputs": [],
   "source": [
    "model = EfficientNetV2S.load_from_checkpoint(MODEL_PATH)"
   ]
  },
  {
   "cell_type": "code",
   "execution_count": null,
   "metadata": {},
   "outputs": [],
   "source": [
    "trainer = pl.Trainer(logger=TensorBoardLogger(save_dir=\"logs/\"))\n",
    "torch.set_float32_matmul_precision(\"medium\")\n",
    "predictions = trainer.predict(model, dl_test)"
   ]
  },
  {
   "cell_type": "code",
   "execution_count": null,
   "metadata": {},
   "outputs": [],
   "source": [
    "species_labels = [\n",
    "    \"antelope_duiker\",\n",
    "    \"bird\",\n",
    "    \"blank\",\n",
    "    \"civet_genet\",\n",
    "    \"hog\",\n",
    "    \"leopard\",\n",
    "    \"monkey_prosimian\",\n",
    "    \"rodent\",\n",
    "]\n",
    "preds_collector = []\n",
    "\n",
    "for batch_idx, batch in enumerate(tqdm(predictions)):\n",
    "    idxs = batch[0]\n",
    "    preds = F.softmax(batch[1], dim=1)\n",
    "\n",
    "    preds_df = pd.DataFrame(\n",
    "            preds.detach().numpy(),\n",
    "            index=idxs,\n",
    "            columns=species_labels,\n",
    "        )\n",
    "    preds_collector.append(preds_df)\n",
    "\n",
    "submission_df = pd.concat(preds_collector)\n",
    "submission_df"
   ]
  },
  {
   "cell_type": "code",
   "execution_count": null,
   "metadata": {},
   "outputs": [],
   "source": [
    "submission_format = pd.read_csv(\"data/submission_format.csv\", index_col=\"id\")\n",
    "\n",
    "assert all(submission_df.index == submission_format.index)\n",
    "assert all(submission_df.columns == submission_format.columns)"
   ]
  },
  {
   "cell_type": "code",
   "execution_count": null,
   "metadata": {},
   "outputs": [],
   "source": [
    "mmdd_hhmm = datetime.now().strftime(\"%m%d_%H%M\")\n",
    "\n",
    "submission_df.to_csv(f\"data/submissions/{mmdd_hhmm}_submission_df.csv\")"
   ]
  },
  {
   "cell_type": "markdown",
   "metadata": {},
   "source": [
    "### Compare with previous best prediction"
   ]
  },
  {
   "cell_type": "code",
   "execution_count": null,
   "metadata": {},
   "outputs": [],
   "source": [
    "previous_best_submission = pd.read_csv(PREVIOUS_BEST_SUBMISSION, index_col=0)\n",
    "\n",
    "previous_best_submission.head()"
   ]
  },
  {
   "cell_type": "code",
   "execution_count": null,
   "metadata": {},
   "outputs": [],
   "source": [
    "f\"Precentage of different entries: {(previous_best_submission.idxmax(axis=1) != submission_df.idxmax(axis=1)).mean():.2%}\""
   ]
  }
 ],
 "metadata": {
  "kernelspec": {
   "display_name": "conservision-practice",
   "language": "python",
   "name": "conservision-practice"
  },
  "language_info": {
   "codemirror_mode": {
    "name": "ipython",
    "version": 3
   },
   "file_extension": ".py",
   "mimetype": "text/x-python",
   "name": "python",
   "nbconvert_exporter": "python",
   "pygments_lexer": "ipython3",
   "version": "3.11.5"
  }
 },
 "nbformat": 4,
 "nbformat_minor": 2
}
