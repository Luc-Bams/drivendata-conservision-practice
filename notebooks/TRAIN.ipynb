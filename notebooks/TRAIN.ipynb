{
 "cells": [
  {
   "cell_type": "code",
   "execution_count": null,
   "metadata": {},
   "outputs": [],
   "source": [
    "%cd .."
   ]
  },
  {
   "cell_type": "code",
   "execution_count": null,
   "metadata": {},
   "outputs": [],
   "source": [
    "import pytorch_lightning as pl\n",
    "import torch\n",
    "from pytorch_lightning.callbacks import EarlyStopping, ModelCheckpoint\n",
    "from pytorch_lightning.loggers import TensorBoardLogger\n",
    "\n",
    "from src.data.ConsPracDataModule import ConsPracDataModule\n",
    "from src.models.ResNet50 import ResNet50"
   ]
  },
  {
   "cell_type": "code",
   "execution_count": null,
   "metadata": {},
   "outputs": [],
   "source": [
    "dm = ConsPracDataModule(augment_images=True)\n",
    "dm.setup()"
   ]
  },
  {
   "cell_type": "code",
   "execution_count": null,
   "metadata": {},
   "outputs": [],
   "source": [
    "dl_train = dm.train_dataloader()\n",
    "dl_val = dm.val_dataloader()"
   ]
  },
  {
   "cell_type": "code",
   "execution_count": null,
   "metadata": {},
   "outputs": [],
   "source": [
    "dl_train.dataset.label.idxmax(axis=1).value_counts(normalize=True)"
   ]
  },
  {
   "cell_type": "code",
   "execution_count": null,
   "metadata": {},
   "outputs": [],
   "source": [
    "dl_val.dataset.label.idxmax(axis=1).value_counts(normalize=True)"
   ]
  },
  {
   "cell_type": "code",
   "execution_count": null,
   "metadata": {},
   "outputs": [],
   "source": [
    "model = ResNet50(num_classes=8)\n",
    "\n",
    "trainer = pl.Trainer(\n",
    "    max_epochs=20,\n",
    "    accelerator=\"auto\",\n",
    "    devices=\"auto\",\n",
    "    logger=TensorBoardLogger(save_dir=\"logs/\"),\n",
    "    callbacks=[\n",
    "        EarlyStopping(\"val_loss\", patience=5),\n",
    "        ModelCheckpoint(\n",
    "            monitor=\"val_loss\",  # Metric to monitor\n",
    "            filename=\"best-checkpoint-{epoch:02d}-{val_loss:.2f}\",  # Filename template\n",
    "            save_top_k=1,  # Save the top k models\n",
    "            mode=\"min\",  # Mode 'min' for minimizing the validation loss\n",
    "            enable_version_counter=True,  # We can keep all checkpoints\n",
    "        ),\n",
    "    ],\n",
    ")\n",
    "\n",
    "torch.set_float32_matmul_precision(\"medium\")\n",
    "trainer.fit(model, dl_train, dl_val)"
   ]
  }
 ],
 "metadata": {
  "kernelspec": {
   "display_name": "conservision-practice",
   "language": "python",
   "name": "conservision-practice"
  },
  "language_info": {
   "codemirror_mode": {
    "name": "ipython",
    "version": 3
   },
   "file_extension": ".py",
   "mimetype": "text/x-python",
   "name": "python",
   "nbconvert_exporter": "python",
   "pygments_lexer": "ipython3",
   "version": "3.11.5"
  }
 },
 "nbformat": 4,
 "nbformat_minor": 2
}
